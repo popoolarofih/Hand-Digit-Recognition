{
 "cells": [
  {
   "cell_type": "code",
   "execution_count": 1,
   "id": "fced2060",
   "metadata": {},
   "outputs": [],
   "source": [
    "from os import environ as env\n",
    "import multiprocessing\n",
    "\n",
    "HOST = \"127.0.0.1\"\n",
    "PORT = int(env.get(\"PORT\", 5000))\n",
    "DEBUG_MODE = int(env.get(\"DEBUG_MODE\", 0))\n",
    "\n",
    "# Gunicorn config\n",
    "bind = \":\" + str(PORT)\n",
    "workers = multiprocessing.cpu_count() * 2 + 1\n",
    "threads = 2 * multiprocessing.cpu_count()"
   ]
  },
  {
   "cell_type": "code",
   "execution_count": null,
   "id": "1b787f6a",
   "metadata": {},
   "outputs": [],
   "source": []
  },
  {
   "cell_type": "code",
   "execution_count": null,
   "id": "ed0ce211",
   "metadata": {},
   "outputs": [],
   "source": []
  }
 ],
 "metadata": {
  "kernelspec": {
   "display_name": "Python 3 (ipykernel)",
   "language": "python",
   "name": "python3"
  },
  "language_info": {
   "codemirror_mode": {
    "name": "ipython",
    "version": 3
   },
   "file_extension": ".py",
   "mimetype": "text/x-python",
   "name": "python",
   "nbconvert_exporter": "python",
   "pygments_lexer": "ipython3",
   "version": "3.9.13"
  }
 },
 "nbformat": 4,
 "nbformat_minor": 5
}
