{
 "cells": [
  {
   "cell_type": "code",
   "execution_count": null,
   "id": "044ea072",
   "metadata": {},
   "outputs": [],
   "source": [
    "import time\n",
    "import torch\n",
    "import random\n",
    "import functools\n",
    "import numpy as np\n",
    "from typing import Any, Callable, TypeVar, cast\n",
    "\n",
    "\n",
    "def random_seed(seed_value: int) -> None:\n",
    "    \"\"\"\n",
    "    Random Seeds Numpy, Random and Torch libraries\n",
    "\n",
    "    Args:\n",
    "        seed_value (int): Number for seeding\n",
    "    \"\"\"\n",
    "    np.random.seed(seed_value)  # cpu vars\n",
    "    torch.manual_seed(seed_value)  # cpu vars\n",
    "    random.seed(seed_value)  # Python\n",
    "    if torch.cuda.is_available():\n",
    "        torch.cuda.manual_seed(seed_value)\n",
    "        torch.cuda.manual_seed_all(seed_value)  # gpu vars\n",
    "        torch.backends.cudnn.deterministic = True  # needed\n",
    "        torch.backends.cudnn.benchmark = False\n",
    "\n",
    "\n",
    "F = TypeVar('F', bound=Callable[..., Any])\n",
    "\n",
    "\n",
    "def timer(func: F) -> F:\n",
    "    \"\"\" Print the runtime of the decorated function \"\"\"\n",
    "    @functools.wraps(func)\n",
    "    def wrapper_timer(*args, **kwargs):\n",
    "        start_time = time.perf_counter()\n",
    "        value = func(*args, **kwargs)\n",
    "        _ = time.perf_counter() - start_time\n",
    "        hours, _ = divmod(_, 3600)\n",
    "        minutes, seconds = divmod(_, 60)\n",
    "\n",
    "        print(f'Execution time of function {func.__name__!r}: {hours:.0f} hrs {minutes:.0f} mins {seconds:.3f} secs')\n",
    "        return value\n",
    "    return cast(F, wrapper_timer)\n"
   ]
  }
 ],
 "metadata": {
  "kernelspec": {
   "display_name": "Python 3 (ipykernel)",
   "language": "python",
   "name": "python3"
  },
  "language_info": {
   "codemirror_mode": {
    "name": "ipython",
    "version": 3
   },
   "file_extension": ".py",
   "mimetype": "text/x-python",
   "name": "python",
   "nbconvert_exporter": "python",
   "pygments_lexer": "ipython3",
   "version": "3.9.13"
  }
 },
 "nbformat": 4,
 "nbformat_minor": 5
}
