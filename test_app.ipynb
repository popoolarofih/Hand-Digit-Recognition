{
 "cells": [
  {
   "cell_type": "code",
   "execution_count": 8,
   "id": "80467fbb",
   "metadata": {},
   "outputs": [
    {
     "name": "stderr",
     "output_type": "stream",
     "text": [
      "E\n",
      "======================================================================\n",
      "ERROR: C:\\Users\\user\\AppData\\Roaming\\jupyter\\runtime\\kernel-80161fae-65e1-424d-a8c8-44207b91dd8a (unittest.loader._FailedTest)\n",
      "----------------------------------------------------------------------\n",
      "AttributeError: module '__main__' has no attribute 'C:\\Users\\user\\AppData\\Roaming\\jupyter\\runtime\\kernel-80161fae-65e1-424d-a8c8-44207b91dd8a'\n",
      "\n",
      "----------------------------------------------------------------------\n",
      "Ran 1 test in 0.001s\n",
      "\n",
      "FAILED (errors=1)\n"
     ]
    },
    {
     "ename": "SystemExit",
     "evalue": "True",
     "output_type": "error",
     "traceback": [
      "An exception has occurred, use %tb to see the full traceback.\n",
      "\u001b[1;31mSystemExit\u001b[0m\u001b[1;31m:\u001b[0m True\n"
     ]
    }
   ],
   "source": [
    "import unittest\n",
    "from app import app\n",
    "\n",
    "\n",
    "class Tests(unittest.TestCase):\n",
    "    '''Basic tests for the application'''\n",
    "\n",
    "    def setUp(self):\n",
    "        '''Create a test client for the app'''\n",
    "        self.app = app.test_client()\n",
    "\n",
    "    def test_200(self):\n",
    "        '''test_200: a request for / shall return 200 OK'''\n",
    "        res = self.app.get('/')\n",
    "        assert res.status == '200 OK'\n",
    "\n",
    "    def test_404(self):\n",
    "        '''test_404: a request for null shall return 404 NOT FOUND'''\n",
    "        res = self.app.get('/null')\n",
    "        assert res.status == '404 NOT FOUND'\n",
    "\n",
    "\n",
    "if __name__ == \"__main__\":\n",
    "    unittest.main()\n"
   ]
  },
  {
   "cell_type": "code",
   "execution_count": 3,
   "id": "c2158035",
   "metadata": {},
   "outputs": [
    {
     "name": "stderr",
     "output_type": "stream",
     "text": [
      "UsageError: Line magic function `%td` not found.\n"
     ]
    }
   ],
   "source": []
  },
  {
   "cell_type": "code",
   "execution_count": null,
   "id": "68b1ee00",
   "metadata": {},
   "outputs": [],
   "source": []
  }
 ],
 "metadata": {
  "kernelspec": {
   "display_name": "Python 3 (ipykernel)",
   "language": "python",
   "name": "python3"
  },
  "language_info": {
   "codemirror_mode": {
    "name": "ipython",
    "version": 3
   },
   "file_extension": ".py",
   "mimetype": "text/x-python",
   "name": "python",
   "nbconvert_exporter": "python",
   "pygments_lexer": "ipython3",
   "version": "3.9.13"
  }
 },
 "nbformat": 4,
 "nbformat_minor": 5
}
